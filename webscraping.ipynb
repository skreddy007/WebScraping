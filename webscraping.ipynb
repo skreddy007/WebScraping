{
 "cells": [
  {
   "cell_type": "code",
   "execution_count": 1,
   "metadata": {},
   "outputs": [],
   "source": [
    "import pandas as pd\n",
    "import numpy as np\n",
    "import matplotlib.pyplot as plt\n",
    "import seaborn as sns\n",
    "import requests\n",
    "from bs4 import BeautifulSoup\n"
   ]
  },
  {
   "cell_type": "code",
   "execution_count": null,
   "metadata": {},
   "outputs": [],
   "source": [
    "url=\"http://www.hubertiming.com/results/2017GPTR10K\"\n",
    "r=requests.get(url)  # requesting data from the URL\n",
    "soup=BeautifulSoup(r.content)  #extract the content from webpage in html format and store in variable(soup)\n",
    "print(soup.prettify())  # get html data of webpage neatly"
   ]
  },
  {
   "cell_type": "code",
   "execution_count": 4,
   "metadata": {},
   "outputs": [
    {
     "name": "stdout",
     "output_type": "stream",
     "text": [
      "<title>Race results for the 2017 Intel Great Place to Run \\ Urban Clash Games!</title>\n"
     ]
    }
   ],
   "source": [
    "print(soup.title) #title of html page"
   ]
  },
  {
   "cell_type": "code",
   "execution_count": null,
   "metadata": {},
   "outputs": [],
   "source": [
    "print(soup.get_text())  #full html info without tags"
   ]
  },
  {
   "cell_type": "code",
   "execution_count": 8,
   "metadata": {},
   "outputs": [
    {
     "name": "stdout",
     "output_type": "stream",
     "text": [
      "[<a href=\"mailto:timing@hubertiming.com\">timing@hubertiming.com</a>, <a href=\"https://www.hubertiming.com/\">Huber Timing Home</a>, <a class=\"btn btn-primary btn-lg\" href=\"/results/2017GPTR\" role=\"button\" style=\"margin: 0px 0px 5px 5px\"><i aria-hidden=\"true\" class=\"fa fa-user\"></i> 5K Individual</a>, <a class=\"btn btn-primary btn-lg\" href=\"/results/team/2017GPTR\" role=\"button\" style=\"margin: 0px 0px 5px 5px\"><i aria-hidden=\"true\" class=\"fa fa-users\"></i> 5K Team</a>, <a class=\"btn btn-primary btn-lg\" href=\"/results/team/2017GPTR10K\" role=\"button\" style=\"margin: 0px 0px 5px 5px\"><i aria-hidden=\"true\" class=\"fa fa-users\"></i> 10K Team</a>, <a class=\"btn btn-primary btn-lg\" href=\"/results/summary/2017GPTR10K\" role=\"button\" style=\"margin: 0px 0px 5px 5px\"><i class=\"fa fa-stream\"></i> Summary</a>, <a id=\"individual\" name=\"individual\"></a>, <a data-url=\"/results/2017GPTR10K\" href=\"#tabs-1\" id=\"rootTab\" style=\"font-size: 18px\">10K Results</a>, <a href=\"https://www.hubertiming.com/\"><img height=\"65\" src=\"https://www.hubertiming.com//sites/all/themes/hubertiming/images/clockWithFinishSign_small.png\" width=\"50\"/>Huber Timing</a>, <a href=\"https://facebook.com/hubertiming/\"><img src=\"https://www.hubertiming.com/results/FB-f-Logo__blue_50.png\"/></a>, <a class=\"small\" id=\"bestFeatureEver\" style=\"color:#007bff\">Dark Mode</a>]\n"
     ]
    }
   ],
   "source": [
    "links=soup.find_all('a') #find the <a> tags in html data which is in name of soup\n",
    "print(links)"
   ]
  },
  {
   "cell_type": "code",
   "execution_count": 9,
   "metadata": {},
   "outputs": [
    {
     "name": "stdout",
     "output_type": "stream",
     "text": [
      "mailto:timing@hubertiming.com\n",
      "https://www.hubertiming.com/\n",
      "/results/2017GPTR\n",
      "/results/team/2017GPTR\n",
      "/results/team/2017GPTR10K\n",
      "/results/summary/2017GPTR10K\n",
      "None\n",
      "#tabs-1\n",
      "https://www.hubertiming.com/\n",
      "https://facebook.com/hubertiming/\n",
      "None\n"
     ]
    }
   ],
   "source": [
    "for i in links:\n",
    "    print(i.get('href'))"
   ]
  },
  {
   "cell_type": "code",
   "execution_count": 19,
   "metadata": {},
   "outputs": [
    {
     "name": "stdout",
     "output_type": "stream",
     "text": [
      "[<tr colspan=\"2\">\n",
      "<b>10K:</b>\n",
      "</tr>, <tr>\n",
      "<td>Finishers:</td>\n",
      "<td>577</td>\n",
      "</tr>, <tr>\n",
      "<td>Male:</td>\n",
      "<td>414</td>\n",
      "</tr>, <tr>\n",
      "<td>Female:</td>\n",
      "<td>163</td>\n",
      "</tr>, <tr class=\"header\">\n",
      "<th>Place</th>\n",
      "<th>Bib</th>\n",
      "<th>Name</th>\n",
      "<th>Gender</th>\n",
      "<th>City</th>\n",
      "<th>State</th>\n",
      "<th>Chip Time</th>\n",
      "<th>Chip Pace</th>\n",
      "<th>Gun Time</th>\n",
      "<th>Team</th>\n",
      "</tr>, <tr>\n",
      "<td>1</td>\n",
      "<td>814</td>\n",
      "<td>\r\n",
      "\r\n",
      "                    JARED WILSON\r\n",
      "\r\n",
      "                </td>\n",
      "<td>M</td>\n",
      "<td>TIGARD</td>\n",
      "<td>OR</td>\n",
      "<td>36:21</td>\n",
      "<td>5:51</td>\n",
      "<td>36:24</td>\n",
      "<td></td>\n",
      "</tr>, <tr>\n",
      "<td>2</td>\n",
      "<td>573</td>\n",
      "<td>\r\n",
      "\r\n",
      "                    NATHAN A SUSTERSIC\r\n",
      "\r\n",
      "                </td>\n",
      "<td>M</td>\n",
      "<td>PORTLAND</td>\n",
      "<td>OR</td>\n",
      "<td>36:42</td>\n",
      "<td>5:55</td>\n",
      "<td>36:45</td>\n",
      "<td>\n",
      "<img class=\"teamThumbs\" src=\"/teamLogoThumbnail/logo?teamName=INTEL%20TEAM%20F&amp;raceId=1251&amp;state=OR\"/>\r\n",
      "                            INTEL TEAM F\r\n",
      "                        </td>\n",
      "</tr>, <tr>\n",
      "<td>3</td>\n",
      "<td>687</td>\n",
      "<td>\r\n",
      "\r\n",
      "                    FRANCISCO MAYA\r\n",
      "\r\n",
      "                </td>\n",
      "<td>M</td>\n",
      "<td>PORTLAND</td>\n",
      "<td>OR</td>\n",
      "<td>37:44</td>\n",
      "<td>6:05</td>\n",
      "<td>37:48</td>\n",
      "<td></td>\n",
      "</tr>, <tr>\n",
      "<td>4</td>\n",
      "<td>623</td>\n",
      "<td>\r\n",
      "\r\n",
      "                    PAUL MORROW\r\n",
      "\r\n",
      "                </td>\n",
      "<td>M</td>\n",
      "<td>BEAVERTON</td>\n",
      "<td>OR</td>\n",
      "<td>38:34</td>\n",
      "<td>6:13</td>\n",
      "<td>38:37</td>\n",
      "<td></td>\n",
      "</tr>, <tr>\n",
      "<td>5</td>\n",
      "<td>569</td>\n",
      "<td>\r\n",
      "\r\n",
      "                    DEREK G OSBORNE\r\n",
      "\r\n",
      "                </td>\n",
      "<td>M</td>\n",
      "<td>HILLSBORO</td>\n",
      "<td>OR</td>\n",
      "<td>39:21</td>\n",
      "<td>6:20</td>\n",
      "<td>39:24</td>\n",
      "<td>\n",
      "<img class=\"teamThumbs\" src=\"/teamLogoThumbnail/logo?teamName=INTEL%20TEAM%20F&amp;raceId=1251&amp;state=OR\"/>\r\n",
      "                            INTEL TEAM F\r\n",
      "                        </td>\n",
      "</tr>]\n"
     ]
    }
   ],
   "source": [
    "tablerow=soup.find_all('tr')[:10]\n",
    "print(tablerow)"
   ]
  },
  {
   "cell_type": "code",
   "execution_count": 46,
   "metadata": {},
   "outputs": [
    {
     "name": "stdout",
     "output_type": "stream",
     "text": [
      "[['1'], ['1'], ['1'], ['1'], ['1'], ['1', '814', 'JARED WILSON', 'M', 'TIGARD', 'OR', '36:21', '5:51', '36:24', ''], ['2', '573', 'NATHAN A SUSTERSIC', 'M', 'PORTLAND', 'OR', '36:42', '5:55', '36:45', 'INTEL TEAM F'], ['3', '687', 'FRANCISCO MAYA', 'M', 'PORTLAND', 'OR', '37:44', '6:05', '37:48', ''], ['4', '623', 'PAUL MORROW', 'M', 'BEAVERTON', 'OR', '38:34', '6:13', '38:37', ''], ['5', '569', 'DEREK G OSBORNE', 'M', 'HILLSBORO', 'OR', '39:21', '6:20', '39:24', 'INTEL TEAM F']]\n"
     ]
    }
   ],
   "source": [
    "l=[]\n",
    "for row in tablerow:\n",
    "    rowdata=row.find_all('td')\n",
    "    if(len(rowdata)==10):\n",
    "        l1=[]\n",
    "        for i in rowdata:\n",
    "            l1.append(i.get_text())\n",
    "        l1[2]=l1[2].strip()\n",
    "        l1[9]=l1[9].strip()\n",
    "    l.append(l1)\n",
    "print(l)\n",
    "\n",
    "    "
   ]
  },
  {
   "cell_type": "code",
   "execution_count": 47,
   "metadata": {},
   "outputs": [
    {
     "name": "stdout",
     "output_type": "stream",
     "text": [
      "   0     1                   2     3          4     5      6     7      8  \\\n",
      "0  1  None                None  None       None  None   None  None   None   \n",
      "1  1  None                None  None       None  None   None  None   None   \n",
      "2  1  None                None  None       None  None   None  None   None   \n",
      "3  1  None                None  None       None  None   None  None   None   \n",
      "4  1  None                None  None       None  None   None  None   None   \n",
      "5  1   814        JARED WILSON     M     TIGARD    OR  36:21  5:51  36:24   \n",
      "6  2   573  NATHAN A SUSTERSIC     M   PORTLAND    OR  36:42  5:55  36:45   \n",
      "7  3   687      FRANCISCO MAYA     M   PORTLAND    OR  37:44  6:05  37:48   \n",
      "8  4   623         PAUL MORROW     M  BEAVERTON    OR  38:34  6:13  38:37   \n",
      "9  5   569     DEREK G OSBORNE     M  HILLSBORO    OR  39:21  6:20  39:24   \n",
      "\n",
      "              9  \n",
      "0          None  \n",
      "1          None  \n",
      "2          None  \n",
      "3          None  \n",
      "4          None  \n",
      "5                \n",
      "6  INTEL TEAM F  \n",
      "7                \n",
      "8                \n",
      "9  INTEL TEAM F  \n"
     ]
    }
   ],
   "source": [
    "df=pd.DataFrame(l)\n",
    "print(df)\n",
    "    "
   ]
  },
  {
   "cell_type": "code",
   "execution_count": 55,
   "metadata": {},
   "outputs": [
    {
     "name": "stdout",
     "output_type": "stream",
     "text": [
      "                                                   0\n",
      "0  [Place, Bib, Name, Gender, City, State, Chip T...\n"
     ]
    }
   ],
   "source": [
    "h=[]\n",
    "header=soup.find_all('th')\n",
    "\n",
    "h.append(BeautifulSoup(str(header)).get_text())\n",
    "df2=pd.DataFrame(h)\n",
    "print(df2)"
   ]
  },
  {
   "cell_type": "code",
   "execution_count": 58,
   "metadata": {},
   "outputs": [
    {
     "name": "stdout",
     "output_type": "stream",
     "text": [
      "        0     1      2        3      4       5           6           7  \\\n",
      "0  [Place   Bib   Name   Gender   City   State   Chip Time   Chip Pace   \n",
      "\n",
      "           8       9  \n",
      "0   Gun Time   Team]  \n"
     ]
    }
   ],
   "source": [
    "df3=df2[0].str.split(',',expand=True)\n",
    "print(df3)"
   ]
  },
  {
   "cell_type": "code",
   "execution_count": 60,
   "metadata": {},
   "outputs": [
    {
     "name": "stdout",
     "output_type": "stream",
     "text": [
      "        0     1                   2        3          4       5           6  \\\n",
      "0  [Place   Bib                Name   Gender       City   State   Chip Time   \n",
      "0       1  None                None     None       None    None        None   \n",
      "1       1  None                None     None       None    None        None   \n",
      "2       1  None                None     None       None    None        None   \n",
      "3       1  None                None     None       None    None        None   \n",
      "4       1  None                None     None       None    None        None   \n",
      "5       1   814        JARED WILSON        M     TIGARD      OR       36:21   \n",
      "6       2   573  NATHAN A SUSTERSIC        M   PORTLAND      OR       36:42   \n",
      "7       3   687      FRANCISCO MAYA        M   PORTLAND      OR       37:44   \n",
      "8       4   623         PAUL MORROW        M  BEAVERTON      OR       38:34   \n",
      "9       5   569     DEREK G OSBORNE        M  HILLSBORO      OR       39:21   \n",
      "\n",
      "            7          8             9  \n",
      "0   Chip Pace   Gun Time         Team]  \n",
      "0        None       None          None  \n",
      "1        None       None          None  \n",
      "2        None       None          None  \n",
      "3        None       None          None  \n",
      "4        None       None          None  \n",
      "5        5:51      36:24                \n",
      "6        5:55      36:45  INTEL TEAM F  \n",
      "7        6:05      37:48                \n",
      "8        6:13      38:37                \n",
      "9        6:20      39:24  INTEL TEAM F  \n"
     ]
    }
   ],
   "source": [
    "df4=pd.concat([df3,df])\n",
    "print(df4)"
   ]
  },
  {
   "cell_type": "code",
   "execution_count": 64,
   "metadata": {},
   "outputs": [
    {
     "name": "stdout",
     "output_type": "stream",
     "text": [
      "   [Place   Bib                Name   Gender       City   State   Chip Time  \\\n",
      "0  [Place   Bib                Name   Gender       City   State   Chip Time   \n",
      "5       1   814        JARED WILSON        M     TIGARD      OR       36:21   \n",
      "6       2   573  NATHAN A SUSTERSIC        M   PORTLAND      OR       36:42   \n",
      "7       3   687      FRANCISCO MAYA        M   PORTLAND      OR       37:44   \n",
      "8       4   623         PAUL MORROW        M  BEAVERTON      OR       38:34   \n",
      "9       5   569     DEREK G OSBORNE        M  HILLSBORO      OR       39:21   \n",
      "\n",
      "    Chip Pace   Gun Time         Team]  \n",
      "0   Chip Pace   Gun Time         Team]  \n",
      "5        5:51      36:24                \n",
      "6        5:55      36:45  INTEL TEAM F  \n",
      "7        6:05      37:48                \n",
      "8        6:13      38:37                \n",
      "9        6:20      39:24  INTEL TEAM F  \n"
     ]
    }
   ],
   "source": [
    "df5=df4.rename(columns=df4.iloc[0])  # for renaming the header with first(0th) row\n",
    "\n",
    "df6=df5.dropna(axis=0,how='any')   # for removing empty rows\n",
    "\n",
    "print(df6)\n",
    "\n"
   ]
  },
  {
   "cell_type": "code",
   "execution_count": 65,
   "metadata": {},
   "outputs": [
    {
     "name": "stdout",
     "output_type": "stream",
     "text": [
      "  [Place  Bib                Name  Gender       City  State  Chip Time  \\\n",
      "5      1  814        JARED WILSON       M     TIGARD     OR      36:21   \n",
      "6      2  573  NATHAN A SUSTERSIC       M   PORTLAND     OR      36:42   \n",
      "7      3  687      FRANCISCO MAYA       M   PORTLAND     OR      37:44   \n",
      "8      4  623         PAUL MORROW       M  BEAVERTON     OR      38:34   \n",
      "9      5  569     DEREK G OSBORNE       M  HILLSBORO     OR      39:21   \n",
      "\n",
      "   Chip Pace  Gun Time         Team]  \n",
      "5       5:51     36:24                \n",
      "6       5:55     36:45  INTEL TEAM F  \n",
      "7       6:05     37:48                \n",
      "8       6:13     38:37                \n",
      "9       6:20     39:24  INTEL TEAM F  \n"
     ]
    }
   ],
   "source": [
    "df7=df6.drop(df6.index[0]) #for removing 0th row\n",
    "print(df7)"
   ]
  },
  {
   "cell_type": "code",
   "execution_count": 66,
   "metadata": {},
   "outputs": [
    {
     "name": "stdout",
     "output_type": "stream",
     "text": [
      "  Place  Bib                Name  Gender       City  State  Chip Time  \\\n",
      "5     1  814        JARED WILSON       M     TIGARD     OR      36:21   \n",
      "6     2  573  NATHAN A SUSTERSIC       M   PORTLAND     OR      36:42   \n",
      "7     3  687      FRANCISCO MAYA       M   PORTLAND     OR      37:44   \n",
      "8     4  623         PAUL MORROW       M  BEAVERTON     OR      38:34   \n",
      "9     5  569     DEREK G OSBORNE       M  HILLSBORO     OR      39:21   \n",
      "\n",
      "   Chip Pace  Gun Time          Team  \n",
      "5       5:51     36:24                \n",
      "6       5:55     36:45  INTEL TEAM F  \n",
      "7       6:05     37:48                \n",
      "8       6:13     38:37                \n",
      "9       6:20     39:24  INTEL TEAM F  \n"
     ]
    }
   ],
   "source": [
    "df7.rename(columns={'[Place': 'Place'},inplace=True)  #for removing the square brackets beside headers \n",
    "df7.rename(columns={' Team]': 'Team'},inplace=True)\n",
    "print(df7)"
   ]
  },
  {
   "cell_type": "code",
   "execution_count": 67,
   "metadata": {},
   "outputs": [],
   "source": [
    "df7.to_csv('webscrap.csv',index=False)"
   ]
  },
  {
   "cell_type": "code",
   "execution_count": null,
   "metadata": {},
   "outputs": [],
   "source": []
  }
 ],
 "metadata": {
  "kernelspec": {
   "display_name": "Python 3",
   "language": "python",
   "name": "python3"
  },
  "language_info": {
   "codemirror_mode": {
    "name": "ipython",
    "version": 3
   },
   "file_extension": ".py",
   "mimetype": "text/x-python",
   "name": "python",
   "nbconvert_exporter": "python",
   "pygments_lexer": "ipython3",
   "version": "3.7.3"
  }
 },
 "nbformat": 4,
 "nbformat_minor": 2
}
